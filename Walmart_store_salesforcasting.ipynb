{
 "cells": [
  {
   "cell_type": "code",
   "execution_count": 1,
   "metadata": {},
   "outputs": [],
   "source": [
    "# Importing packages and libraries\n",
    "import numpy as np\n",
    "import pandas as pd\n",
    "import seaborn as sns\n",
    "import warnings\n",
    "import matplotlib.pyplot as plt\n",
    "from sklearn.impute import SimpleImputer\n",
    "from sklearn.model_selection import train_test_split\n",
    "from sklearn.ensemble import RandomForestRegressor\n",
    "from sklearn.tree import DecisionTreeClassifier\n",
    "from sklearn.metrics import mean_squared_error\n",
    "import warnings\n",
    "warnings.filterwarnings('ignore')\n",
    "pd.set_option('display.max_columns',120)\n",
    "pd.set_option('display.max_rows',120)\n"
   ]
  },
  {
   "cell_type": "code",
   "execution_count": 2,
   "metadata": {},
   "outputs": [],
   "source": [
    "# Read Data\n",
    "features = pd.read_csv('features.csv')\n",
    "train=pd.read_csv('train.csv')\n",
    "stores = pd.read_csv('stores.csv')\n",
    "test=pd.read_csv('test.csv')\n",
    "sample_submission = pd.read_csv('sampleSubmission.csv')"
   ]
  },
  {
   "cell_type": "code",
   "execution_count": 3,
   "metadata": {},
   "outputs": [
    {
     "name": "stdout",
     "output_type": "stream",
     "text": [
      "   Store        Date  Temperature  Fuel_Price  MarkDown1  MarkDown2  \\\n",
      "0      1  2010-02-05        42.31       2.572        NaN        NaN   \n",
      "1      1  2010-02-12        38.51       2.548        NaN        NaN   \n",
      "2      1  2010-02-19        39.93       2.514        NaN        NaN   \n",
      "3      1  2010-02-26        46.63       2.561        NaN        NaN   \n",
      "4      1  2010-03-05        46.50       2.625        NaN        NaN   \n",
      "\n",
      "   MarkDown3  MarkDown4  MarkDown5         CPI  Unemployment  IsHoliday  \n",
      "0        NaN        NaN        NaN  211.096358         8.106      False  \n",
      "1        NaN        NaN        NaN  211.242170         8.106       True  \n",
      "2        NaN        NaN        NaN  211.289143         8.106      False  \n",
      "3        NaN        NaN        NaN  211.319643         8.106      False  \n",
      "4        NaN        NaN        NaN  211.350143         8.106      False  \n",
      "--------- \n",
      "\n",
      "   Store  Dept        Date  Weekly_Sales  IsHoliday\n",
      "0      1     1  2010-02-05      24924.50      False\n",
      "1      1     1  2010-02-12      46039.49       True\n",
      "2      1     1  2010-02-19      41595.55      False\n",
      "3      1     1  2010-02-26      19403.54      False\n",
      "4      1     1  2010-03-05      21827.90      False\n",
      "--------- \n",
      "\n",
      "   Store Type    Size\n",
      "0      1    A  151315\n",
      "1      2    A  202307\n",
      "2      3    B   37392\n",
      "3      4    A  205863\n",
      "4      5    B   34875\n",
      "--------- \n",
      "\n",
      "   Store  Dept        Date  IsHoliday\n",
      "0      1     1  2012-11-02      False\n",
      "1      1     1  2012-11-09      False\n",
      "2      1     1  2012-11-16      False\n",
      "3      1     1  2012-11-23       True\n",
      "4      1     1  2012-11-30      False\n",
      "--------- \n",
      "\n",
      "               Id  Weekly_Sales\n",
      "0  1_1_2012-11-02             0\n",
      "1  1_1_2012-11-09             0\n",
      "2  1_1_2012-11-16             0\n",
      "3  1_1_2012-11-23             0\n",
      "4  1_1_2012-11-30             0\n"
     ]
    }
   ],
   "source": [
    "# review the data\n",
    "print(features.head())\n",
    "print('--------- \\n')\n",
    "print(train.head())\n",
    "print('--------- \\n')\n",
    "print(stores.head())\n",
    "print('--------- \\n')\n",
    "print(test.head())\n",
    "print('--------- \\n')\n",
    "print(sample_submission.head())"
   ]
  },
  {
   "cell_type": "code",
   "execution_count": 4,
   "metadata": {},
   "outputs": [],
   "source": [
    "# No features contained in dataset <test>, it only has store,department, date and holiday.\n",
    "# Explore if the features (Temperature, Fuel Price, Markdowns, CPI and Unemployment) can affect the <weekly_sales>"
   ]
  },
  {
   "cell_type": "code",
   "execution_count": 5,
   "metadata": {},
   "outputs": [
    {
     "data": {
      "text/plain": [
       "((8190, 12), (421570, 5), (45, 3), (115064, 4))"
      ]
     },
     "execution_count": 5,
     "metadata": {},
     "output_type": "execute_result"
    }
   ],
   "source": [
    "#Data Cleaning\n",
    "features.shape, train.shape, stores.shape, test.shape"
   ]
  },
  {
   "cell_type": "code",
   "execution_count": 6,
   "metadata": {},
   "outputs": [
    {
     "name": "stdout",
     "output_type": "stream",
     "text": [
      "   Store  Dept       Date  Weekly_Sales  IsHoliday  Temperature  Fuel_Price  \\\n",
      "0      1     1 2010-02-05      24924.50      False        42.31       2.572   \n",
      "1      1     2 2010-02-05      50605.27      False        42.31       2.572   \n",
      "2      1     3 2010-02-05      13740.12      False        42.31       2.572   \n",
      "3      1     4 2010-02-05      39954.04      False        42.31       2.572   \n",
      "4      1     5 2010-02-05      32229.38      False        42.31       2.572   \n",
      "\n",
      "   MarkDown1  MarkDown2  MarkDown3  MarkDown4  MarkDown5         CPI  \\\n",
      "0        NaN        NaN        NaN        NaN        NaN  211.096358   \n",
      "1        NaN        NaN        NaN        NaN        NaN  211.096358   \n",
      "2        NaN        NaN        NaN        NaN        NaN  211.096358   \n",
      "3        NaN        NaN        NaN        NaN        NaN  211.096358   \n",
      "4        NaN        NaN        NaN        NaN        NaN  211.096358   \n",
      "\n",
      "   Unemployment  Type    Size  Day  Week  Month  Year  \n",
      "0         8.106     1  151315    5     5      2  2010  \n",
      "1         8.106     1  151315    5     5      2  2010  \n",
      "2         8.106     1  151315    5     5      2  2010  \n",
      "3         8.106     1  151315    5     5      2  2010  \n",
      "4         8.106     1  151315    5     5      2  2010  \n",
      "--------- \n",
      "\n",
      "   Store  Dept       Date  IsHoliday  Temperature  Fuel_Price  MarkDown1  \\\n",
      "0      1     1 2012-11-02      False        55.32       3.386    6766.44   \n",
      "1      1     2 2012-11-02      False        55.32       3.386    6766.44   \n",
      "2      1     3 2012-11-02      False        55.32       3.386    6766.44   \n",
      "3      1     4 2012-11-02      False        55.32       3.386    6766.44   \n",
      "4      1     5 2012-11-02      False        55.32       3.386    6766.44   \n",
      "\n",
      "   MarkDown2  MarkDown3  MarkDown4  MarkDown5         CPI  Unemployment  Type  \\\n",
      "0     5147.7      50.82     3639.9    2737.42  223.462779         6.573     1   \n",
      "1     5147.7      50.82     3639.9    2737.42  223.462779         6.573     1   \n",
      "2     5147.7      50.82     3639.9    2737.42  223.462779         6.573     1   \n",
      "3     5147.7      50.82     3639.9    2737.42  223.462779         6.573     1   \n",
      "4     5147.7      50.82     3639.9    2737.42  223.462779         6.573     1   \n",
      "\n",
      "     Size  Day  Week  Month  Year  \n",
      "0  151315    2    44     11  2012  \n",
      "1  151315    2    44     11  2012  \n",
      "2  151315    2    44     11  2012  \n",
      "3  151315    2    44     11  2012  \n",
      "4  151315    2    44     11  2012  \n"
     ]
    }
   ],
   "source": [
    "feature_store = features.merge(stores, how='inner', on = 'Store')\n",
    "train = train.merge(feature_store, how = 'inner', on=['Store', 'Date','IsHoliday'])\n",
    "test = test.merge(feature_store, how = 'inner', on =['Store','Date','IsHoliday'])\n",
    "train=train.copy()\n",
    "test=test.copy()\n",
    "# adding datetime into the table as features\n",
    "train['Date'] = pd.to_datetime(train['Date'])\n",
    "train['Day'] = train['Date'].dt.day\n",
    "train['Week']=train['Date'].dt.week\n",
    "train['Month'] = train['Date'].dt.month\n",
    "train['Year'] = train['Date'].dt.year\n",
    "train.replace({'A':1,'B':2,'C':3},inplace=True)\n",
    "\n",
    "test['Date'] = pd.to_datetime(test['Date'])\n",
    "test['Day'] = test['Date'].dt.day\n",
    "test['Week']=test['Date'].dt.week\n",
    "test['Month'] = test['Date'].dt.month\n",
    "test['Year'] = test['Date'].dt.year\n",
    "test.replace({'A':1,'B':2,'C':3},inplace=True)\n",
    "\n",
    "print(train.head())\n",
    "print('--------- \\n')\n",
    "print(test.head())"
   ]
  },
  {
   "cell_type": "code",
   "execution_count": 7,
   "metadata": {},
   "outputs": [
    {
     "data": {
      "image/png": "[encoded data removed]",
      "text/plain": [
       "<Figure size 1440x504 with 1 Axes>"
      ]
     },
     "metadata": {
      "needs_background": "light"
     },
     "output_type": "display_data"
    }
   ],
   "source": [
    "# EDA, data visualizations\n",
    "weekly_sales = train.groupby(['Year','Week']).agg({'Weekly_Sales': ['mean', 'median']})\n",
    "weekly_sales2010 = train.loc[train['Year']==2010].groupby(['Week']).agg({'Weekly_Sales': ['mean', 'median']})\n",
    "weekly_sales2011 = train.loc[train['Year']==2011].groupby(['Week']).agg({'Weekly_Sales': ['mean', 'median']})\n",
    "weekly_sales2012 = train.loc[train['Year']==2012].groupby(['Week']).agg({'Weekly_Sales': ['mean', 'median']})\n",
    "plt.figure(figsize=(20, 7))\n",
    "sns.lineplot(weekly_sales2010['Weekly_Sales']['mean'].index, weekly_sales2010['Weekly_Sales']['mean'].values)\n",
    "sns.lineplot(weekly_sales2011['Weekly_Sales']['mean'].index, weekly_sales2011['Weekly_Sales']['mean'].values)\n",
    "sns.lineplot(weekly_sales2012['Weekly_Sales']['mean'].index, weekly_sales2012['Weekly_Sales']['mean'].values)\n",
    "plt.title('Weekly Sales over 2010, 2011 and 2012')\n",
    "plt.grid()\n",
    "plt.xticks(np.arange(1, 53, step=1))\n",
    "plt.legend(['2010', '2011', '2012'])\n",
    "plt.show()"
   ]
  },
  {
   "cell_type": "code",
   "execution_count": 8,
   "metadata": {},
   "outputs": [],
   "source": [
    "Y_train = train['Weekly_Sales']\n",
    "targets= Y_train.copy()\n",
    "train = train.drop(['Weekly_Sales'],axis=1)\n",
    "numeric_cols=train.select_dtypes(include=np.number).columns.tolist()\n",
    "categorical_cols= train.select_dtypes('object').columns.tolist()"
   ]
  },
  {
   "cell_type": "code",
   "execution_count": 11,
   "metadata": {},
   "outputs": [
    {
     "name": "stdout",
     "output_type": "stream",
     "text": [
      "--------- \n",
      "\n"
     ]
    }
   ],
   "source": [
    "# Detect Missing Values and replaced by numerical value\n",
    "train.isnull().sum()\n",
    "print('--------- \\n')\n",
    "#test.isnull().sum()\n",
    "#replace all null values\n",
    "imputer = SimpleImputer(missing_values = np.NaN, strategy ='mean')\n",
    "imputer.fit(train[numeric_cols])\n",
    "train[numeric_cols]=imputer.transform(train[numeric_cols])"
   ]
  },
  {
   "cell_type": "code",
   "execution_count": 13,
   "metadata": {},
   "outputs": [],
   "source": [
    "# Start Modeling\n",
    "X_train = train[['Store','Dept','IsHoliday','Size','Week','Type','Year']]\n",
    "X_test= test[['Store','Dept','IsHoliday','Size','Week','Type','Year']]\n",
    "\n",
    "#splitting training and test dataset with std 75%\n",
    "train_inputs, val_inputs, train_targets, val_targets = train_test_split(X_train, Y_train, test_size=0.25, random_state=42)"
   ]
  },
  {
   "cell_type": "code",
   "execution_count": 17,
   "metadata": {},
   "outputs": [
    {
     "data": {
      "text/plain": [
       "RandomForestRegressor(max_depth=27, max_features=6, min_samples_split=3,\n",
       "                      n_estimators=58)"
      ]
     },
     "execution_count": 17,
     "metadata": {},
     "output_type": "execute_result"
    }
   ],
   "source": [
    "# Random Forest Regressor\n",
    "RF = RandomForestRegressor(n_estimators=58, max_depth=27, max_features=6, min_samples_split=3, min_samples_leaf=1)\n",
    "RF.fit(train_inputs,train_targets)"
   ]
  },
  {
   "cell_type": "code",
   "execution_count": 21,
   "metadata": {},
   "outputs": [
    {
     "name": "stdout",
     "output_type": "stream",
     "text": [
      "The accurancy score for training data is  0.9951335810194312\n",
      "The accurancy score for testing data is  0.9773066422166953\n"
     ]
    }
   ],
   "source": [
    "print('The accurancy score for training data is ',\n",
    "     RF.score(train_inputs,train_targets))\n",
    "print ('The accurancy score for testing data is ',\n",
    "      RF.score(val_inputs, val_targets))"
   ]
  },
  {
   "cell_type": "code",
   "execution_count": 23,
   "metadata": {},
   "outputs": [
    {
     "data": {
      "text/plain": [
       "1581.1336769648692"
      ]
     },
     "execution_count": 23,
     "metadata": {},
     "output_type": "execute_result"
    }
   ],
   "source": [
    "# Make and evaluate predictions, evaluate by MSE mean_sqaured_error\n",
    "train_predict=RF.predict(train_inputs)\n",
    "\n",
    "def rmse(a,b):\n",
    "    return mean_squared_error(a,b,squared=False)\n",
    "rmse(train_targets,train_predict)"
   ]
  },
  {
   "cell_type": "code",
   "execution_count": 26,
   "metadata": {},
   "outputs": [
    {
     "data": {
      "image/png": "[encoded data removed]",
      "text/plain": [
       "<Figure size 432x288 with 1 Axes>"
      ]
     },
     "metadata": {
      "needs_background": "light"
     },
     "output_type": "display_data"
    }
   ],
   "source": [
    "# visualize the important features\n",
    "feat_importance= pd.Series(RF.feature_importances_,index=train_inputs.columns)\n",
    "feat_importance.sort_values().plot(kind='barh')\n",
    "plt.title('Feature Importance')\n",
    "plt.show()"
   ]
  },
  {
   "cell_type": "code",
   "execution_count": 27,
   "metadata": {},
   "outputs": [
    {
     "data": {
      "text/plain": [
       "array([29872.23466092, 44904.65380172,  9829.91265887, ...,\n",
       "       53313.25212069,  6784.38160304,   682.5029454 ])"
      ]
     },
     "execution_count": 27,
     "metadata": {},
     "output_type": "execute_result"
    }
   ],
   "source": [
    "#Making Predictions\n",
    "test_prediction = RF.predict(X_test)\n",
    "test_prediction"
   ]
  },
  {
   "cell_type": "code",
   "execution_count": 28,
   "metadata": {},
   "outputs": [],
   "source": [
    "#convert to csv file\n",
    "Final = X_test[['Store','Dept','Week']]\n",
    "test['Weekly_Sales']= test_prediction"
   ]
  },
  {
   "cell_type": "code",
   "execution_count": 30,
   "metadata": {},
   "outputs": [
    {
     "data": {
      "text/html": [
       "<div>\n",
       "<style scoped>\n",
       "    .dataframe tbody tr th:only-of-type {\n",
       "        vertical-align: middle;\n",
       "    }\n",
       "\n",
       "    .dataframe tbody tr th {\n",
       "        vertical-align: top;\n",
       "    }\n",
       "\n",
       "    .dataframe thead th {\n",
       "        text-align: right;\n",
       "    }\n",
       "</style>\n",
       "<table border=\"1\" class=\"dataframe\">\n",
       "  <thead>\n",
       "    <tr style=\"text-align: right;\">\n",
       "      <th></th>\n",
       "      <th>Id</th>\n",
       "      <th>Weekly_Sales</th>\n",
       "    </tr>\n",
       "  </thead>\n",
       "  <tbody>\n",
       "    <tr>\n",
       "      <th>0</th>\n",
       "      <td>1_1_2012-11-02</td>\n",
       "      <td>29872.234661</td>\n",
       "    </tr>\n",
       "    <tr>\n",
       "      <th>1</th>\n",
       "      <td>1_1_2012-11-09</td>\n",
       "      <td>44904.653802</td>\n",
       "    </tr>\n",
       "    <tr>\n",
       "      <th>2</th>\n",
       "      <td>1_1_2012-11-16</td>\n",
       "      <td>9829.912659</td>\n",
       "    </tr>\n",
       "    <tr>\n",
       "      <th>3</th>\n",
       "      <td>1_1_2012-11-23</td>\n",
       "      <td>35649.707248</td>\n",
       "    </tr>\n",
       "    <tr>\n",
       "      <th>4</th>\n",
       "      <td>1_1_2012-11-30</td>\n",
       "      <td>28214.103667</td>\n",
       "    </tr>\n",
       "    <tr>\n",
       "      <th>...</th>\n",
       "      <td>...</td>\n",
       "      <td>...</td>\n",
       "    </tr>\n",
       "    <tr>\n",
       "      <th>115059</th>\n",
       "      <td>45_98_2013-06-28</td>\n",
       "      <td>3613.685718</td>\n",
       "    </tr>\n",
       "    <tr>\n",
       "      <th>115060</th>\n",
       "      <td>45_98_2013-07-05</td>\n",
       "      <td>3376.362848</td>\n",
       "    </tr>\n",
       "    <tr>\n",
       "      <th>115061</th>\n",
       "      <td>45_98_2013-07-12</td>\n",
       "      <td>53313.252121</td>\n",
       "    </tr>\n",
       "    <tr>\n",
       "      <th>115062</th>\n",
       "      <td>45_98_2013-07-19</td>\n",
       "      <td>6784.381603</td>\n",
       "    </tr>\n",
       "    <tr>\n",
       "      <th>115063</th>\n",
       "      <td>45_98_2013-07-26</td>\n",
       "      <td>682.502945</td>\n",
       "    </tr>\n",
       "  </tbody>\n",
       "</table>\n",
       "<p>115064 rows × 2 columns</p>\n",
       "</div>"
      ],
      "text/plain": [
       "                      Id  Weekly_Sales\n",
       "0         1_1_2012-11-02  29872.234661\n",
       "1         1_1_2012-11-09  44904.653802\n",
       "2         1_1_2012-11-16   9829.912659\n",
       "3         1_1_2012-11-23  35649.707248\n",
       "4         1_1_2012-11-30  28214.103667\n",
       "...                  ...           ...\n",
       "115059  45_98_2013-06-28   3613.685718\n",
       "115060  45_98_2013-07-05   3376.362848\n",
       "115061  45_98_2013-07-12  53313.252121\n",
       "115062  45_98_2013-07-19   6784.381603\n",
       "115063  45_98_2013-07-26    682.502945\n",
       "\n",
       "[115064 rows x 2 columns]"
      ]
     },
     "execution_count": 30,
     "metadata": {},
     "output_type": "execute_result"
    }
   ],
   "source": [
    "sample_submission['Weekly_Sales']=test['Weekly_Sales']\n",
    "sample_submission.to_csv('submission.csv',index=False)\n",
    "predicts = pd.read_csv('submission.csv')\n",
    "predicts"
   ]
  },
  {
   "cell_type": "code",
   "execution_count": 31,
   "metadata": {},
   "outputs": [
    {
     "data": {
      "text/plain": [
       "LinearRegression()"
      ]
     },
     "execution_count": 31,
     "metadata": {},
     "output_type": "execute_result"
    }
   ],
   "source": [
    "#Linear Regression\n",
    "from sklearn.linear_model import LinearRegression\n",
    "\n",
    "lr=LinearRegression()\n",
    "lr.fit(train_inputs,train_targets)"
   ]
  },
  {
   "cell_type": "code",
   "execution_count": 33,
   "metadata": {},
   "outputs": [
    {
     "data": {
      "text/plain": [
       "21674.949850452453"
      ]
     },
     "execution_count": 33,
     "metadata": {},
     "output_type": "execute_result"
    }
   ],
   "source": [
    "Y_pred=lr.predict(train_inputs)\n",
    "Y_pred\n",
    "\n",
    "rmse(train_targets,Y_pred)"
   ]
  },
  {
   "cell_type": "code",
   "execution_count": 36,
   "metadata": {},
   "outputs": [
    {
     "data": {
      "text/plain": [
       "array([13927.49399618, 14039.07649349, 14150.6589908 , ...,\n",
       "       18250.011901  , 18473.17689562, 18584.75939293])"
      ]
     },
     "execution_count": 36,
     "metadata": {},
     "output_type": "execute_result"
    }
   ],
   "source": [
    "# making prediction\n",
    "test_pred=lr.predict(X_test)\n",
    "test_pred"
   ]
  },
  {
   "cell_type": "code",
   "execution_count": 37,
   "metadata": {},
   "outputs": [
    {
     "data": {
      "text/html": [
       "<div>\n",
       "<style scoped>\n",
       "    .dataframe tbody tr th:only-of-type {\n",
       "        vertical-align: middle;\n",
       "    }\n",
       "\n",
       "    .dataframe tbody tr th {\n",
       "        vertical-align: top;\n",
       "    }\n",
       "\n",
       "    .dataframe thead th {\n",
       "        text-align: right;\n",
       "    }\n",
       "</style>\n",
       "<table border=\"1\" class=\"dataframe\">\n",
       "  <thead>\n",
       "    <tr style=\"text-align: right;\">\n",
       "      <th></th>\n",
       "      <th>Id</th>\n",
       "      <th>Weekly_Sales</th>\n",
       "    </tr>\n",
       "  </thead>\n",
       "  <tbody>\n",
       "    <tr>\n",
       "      <th>0</th>\n",
       "      <td>1_1_2012-11-02</td>\n",
       "      <td>13927.493996</td>\n",
       "    </tr>\n",
       "    <tr>\n",
       "      <th>1</th>\n",
       "      <td>1_1_2012-11-09</td>\n",
       "      <td>14039.076493</td>\n",
       "    </tr>\n",
       "    <tr>\n",
       "      <th>2</th>\n",
       "      <td>1_1_2012-11-16</td>\n",
       "      <td>14150.658991</td>\n",
       "    </tr>\n",
       "    <tr>\n",
       "      <th>3</th>\n",
       "      <td>1_1_2012-11-23</td>\n",
       "      <td>14262.241488</td>\n",
       "    </tr>\n",
       "    <tr>\n",
       "      <th>4</th>\n",
       "      <td>1_1_2012-11-30</td>\n",
       "      <td>14373.823985</td>\n",
       "    </tr>\n",
       "    <tr>\n",
       "      <th>...</th>\n",
       "      <td>...</td>\n",
       "      <td>...</td>\n",
       "    </tr>\n",
       "    <tr>\n",
       "      <th>115059</th>\n",
       "      <td>45_98_2013-06-28</td>\n",
       "      <td>18026.846906</td>\n",
       "    </tr>\n",
       "    <tr>\n",
       "      <th>115060</th>\n",
       "      <td>45_98_2013-07-05</td>\n",
       "      <td>18138.429404</td>\n",
       "    </tr>\n",
       "    <tr>\n",
       "      <th>115061</th>\n",
       "      <td>45_98_2013-07-12</td>\n",
       "      <td>18250.011901</td>\n",
       "    </tr>\n",
       "    <tr>\n",
       "      <th>115062</th>\n",
       "      <td>45_98_2013-07-19</td>\n",
       "      <td>18473.176896</td>\n",
       "    </tr>\n",
       "    <tr>\n",
       "      <th>115063</th>\n",
       "      <td>45_98_2013-07-26</td>\n",
       "      <td>18584.759393</td>\n",
       "    </tr>\n",
       "  </tbody>\n",
       "</table>\n",
       "<p>115064 rows × 2 columns</p>\n",
       "</div>"
      ],
      "text/plain": [
       "                      Id  Weekly_Sales\n",
       "0         1_1_2012-11-02  13927.493996\n",
       "1         1_1_2012-11-09  14039.076493\n",
       "2         1_1_2012-11-16  14150.658991\n",
       "3         1_1_2012-11-23  14262.241488\n",
       "4         1_1_2012-11-30  14373.823985\n",
       "...                  ...           ...\n",
       "115059  45_98_2013-06-28  18026.846906\n",
       "115060  45_98_2013-07-05  18138.429404\n",
       "115061  45_98_2013-07-12  18250.011901\n",
       "115062  45_98_2013-07-19  18473.176896\n",
       "115063  45_98_2013-07-26  18584.759393\n",
       "\n",
       "[115064 rows x 2 columns]"
      ]
     },
     "execution_count": 37,
     "metadata": {},
     "output_type": "execute_result"
    }
   ],
   "source": [
    "#conver to csv file\n",
    "Final = X_test[['Store','Dept','Week']]\n",
    "test['Weekly_Sales']=test_pred\n",
    "sample_submission['Weekly_Sales']=test['Weekly_Sales']\n",
    "sample_submission.to_csv('submission1.csv',index=False)\n",
    "preds=pd.read_csv('submission1.csv')\n",
    "preds"
   ]
  }
 ],
 "metadata": {
  "kernelspec": {
   "display_name": "Python 3",
   "language": "python",
   "name": "python3"
  },
  "language_info": {
   "codemirror_mode": {
    "name": "ipython",
    "version": 3
   },
   "file_extension": ".py",
   "mimetype": "text/x-python",
   "name": "python",
   "nbconvert_exporter": "python",
   "pygments_lexer": "ipython3",
   "version": "3.8.3"
  }
 },
 "nbformat": 4,
 "nbformat_minor": 4
}
